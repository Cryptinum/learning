{
 "cells": [
  {
   "cell_type": "code",
   "execution_count": 1,
   "id": "e26897dc",
   "metadata": {
    "ExecuteTime": {
     "end_time": "2022-07-30T04:22:39.460766Z",
     "start_time": "2022-07-30T04:22:38.123227Z"
    }
   },
   "outputs": [],
   "source": [
    "import numpy as np\n",
    "import pandas as pd\n",
    "PREVIOUS_MAX_ROWS = pd.options.display.max_rows\n",
    "pd.options.display.max_rows = 20\n",
    "np.random.seed(12345)\n",
    "import matplotlib.pyplot as plt\n",
    "import matplotlib\n",
    "plt.rc('figure', figsize=(10, 6))\n",
    "np.set_printoptions(precision=4, suppress=True)"
   ]
  },
  {
   "cell_type": "markdown",
   "id": "80c7ef54",
   "metadata": {},
   "source": [
    "# A Brief matplotlib API Primer"
   ]
  },
  {
   "cell_type": "markdown",
   "id": "5b11d342",
   "metadata": {},
   "source": [
    "Run following statement first to active a interactive plotting system in Jupyter."
   ]
  },
  {
   "cell_type": "markdown",
   "id": "2ed98761",
   "metadata": {
    "ExecuteTime": {
     "end_time": "2022-07-29T02:38:41.163914Z",
     "start_time": "2022-07-29T02:38:41.153940Z"
    }
   },
   "source": [
    "%matplotlib notebook"
   ]
  },
  {
   "cell_type": "code",
   "execution_count": 2,
   "id": "e3f1c21a",
   "metadata": {
    "ExecuteTime": {
     "end_time": "2022-07-30T04:22:39.468679Z",
     "start_time": "2022-07-30T04:22:39.463692Z"
    }
   },
   "outputs": [],
   "source": [
    "import matplotlib.pyplot as plt\n",
    "import numpy as np"
   ]
  },
  {
   "cell_type": "code",
   "execution_count": 3,
   "id": "68d20f77",
   "metadata": {
    "ExecuteTime": {
     "end_time": "2022-07-30T04:22:39.488644Z",
     "start_time": "2022-07-30T04:22:39.471671Z"
    }
   },
   "outputs": [
    {
     "data": {
      "text/plain": [
       "array([0, 1, 2, 3, 4, 5, 6, 7, 8, 9])"
      ]
     },
     "execution_count": 3,
     "metadata": {},
     "output_type": "execute_result"
    }
   ],
   "source": [
    "data = np.arange(10)\n",
    "data"
   ]
  },
  {
   "cell_type": "code",
   "execution_count": 4,
   "id": "f9396e3f",
   "metadata": {
    "ExecuteTime": {
     "end_time": "2022-07-30T04:22:39.668741Z",
     "start_time": "2022-07-30T04:22:39.492642Z"
    }
   },
   "outputs": [
    {
     "data": {
      "text/plain": [
       "[<matplotlib.lines.Line2D at 0x1a4b9df9fa0>]"
      ]
     },
     "execution_count": 4,
     "metadata": {},
     "output_type": "execute_result"
    },
    {
     "data": {
      "image/png": "[encoded data removed]",
      "text/plain": [
       "<Figure size 432x288 with 1 Axes>"
      ]
     },
     "metadata": {
      "needs_background": "light"
     },
     "output_type": "display_data"
    }
   ],
   "source": [
    "plt.plot(data)"
   ]
  },
  {
   "cell_type": "markdown",
   "id": "0db58bc0",
   "metadata": {},
   "source": [
    "## Figures and Subplots"
   ]
  },
  {
   "cell_type": "markdown",
   "id": "a4b4bb92",
   "metadata": {},
   "source": [
    "### Intro"
   ]
  },
  {
   "cell_type": "markdown",
   "id": "2e566578",
   "metadata": {
    "ExecuteTime": {
     "end_time": "2022-07-29T01:18:48.082126Z",
     "start_time": "2022-07-29T01:18:48.060218Z"
    }
   },
   "source": [
    "Plots in matplotlib reside within a Figure object.\n",
    "\n",
    "`plt.figure()` creates a blank figure, but we can't make a plot with a blank figure, we have to create one or more `subplots` using `add_sublpot`."
   ]
  },
  {
   "cell_type": "code",
   "execution_count": 5,
   "id": "1326b749",
   "metadata": {
    "ExecuteTime": {
     "end_time": "2022-07-30T04:22:39.971831Z",
     "start_time": "2022-07-30T04:22:39.670704Z"
    }
   },
   "outputs": [
    {
     "data": {
      "image/png": "[encoded data removed]",
      "text/plain": [
       "<Figure size 432x288 with 3 Axes>"
      ]
     },
     "metadata": {
      "needs_background": "light"
     },
     "output_type": "display_data"
    }
   ],
   "source": [
    "fig = plt.figure()\n",
    "ax1 = fig.add_subplot(2, 2, 1)\n",
    "ax2 = fig.add_subplot(2, 2, 2)\n",
    "ax3 = fig.add_subplot(2, 2, 3)\n",
    "ax1.hist(np.random.randn(100), bins=20, color='k', alpha=0.3)\n",
    "ax2.scatter(np.arange(30), np.arange(30) + 3 * np.random.randn(30))\n",
    "ax3.plot(np.random.randn(50).cumsum(), 'k--')\n",
    "\n",
    "fig.subplots_adjust(left=None, bottom=None, right=None, top=None, wspace=None, hspace=None) # Adjusting."
   ]
  },
  {
   "cell_type": "markdown",
   "id": "d92d50a4",
   "metadata": {
    "ExecuteTime": {
     "end_time": "2022-07-29T02:28:21.943114Z",
     "start_time": "2022-07-29T02:28:21.935135Z"
    }
   },
   "source": [
    "### Adjusting the space around subplots"
   ]
  },
  {
   "cell_type": "markdown",
   "id": "6ca9ecaa",
   "metadata": {},
   "source": [
    "**Eg:**  \n",
    "`subplots_adjust(left=None, bottom=None, right=None, top=None, wspace=None, hspace=None)`\n",
    "\n",
    "`wspace` and `hspace` controls the percentage of the figure width and figure height to use as spacing etween subplots."
   ]
  },
  {
   "cell_type": "code",
   "execution_count": 6,
   "id": "48fcafe5",
   "metadata": {
    "ExecuteTime": {
     "end_time": "2022-07-30T04:22:40.642039Z",
     "start_time": "2022-07-30T04:22:39.974799Z"
    },
    "code_folding": [],
    "scrolled": true
   },
   "outputs": [
    {
     "data": {
      "image/png": "[encoded data removed]",
      "text/plain": [
       "<Figure size 432x288 with 4 Axes>"
      ]
     },
     "metadata": {
      "needs_background": "light"
     },
     "output_type": "display_data"
    }
   ],
   "source": [
    "fig, axes = plt.subplots(2, 2, sharex=True, sharey=True)\n",
    "for i in range(2):\n",
    "    for j in range(2):\n",
    "        axes[i, j].hist(np.random.randn(500), bins=50, color='k', alpha=0.5)\n",
    "plt.subplots_adjust(wspace=0, hspace=0)"
   ]
  },
  {
   "cell_type": "markdown",
   "id": "bef99a77",
   "metadata": {
    "ExecuteTime": {
     "end_time": "2022-07-29T03:01:29.079905Z",
     "start_time": "2022-07-29T03:01:29.033975Z"
    },
    "tags": []
   },
   "source": [
    "## Colors, Markers,  and Line Styles"
   ]
  },
  {
   "cell_type": "markdown",
   "id": "6f052229",
   "metadata": {},
   "source": [
    "Matplotlib's main `plot` function accepts arrays of `x` and `y` and optionally a string abbreviation indicating color and line style.\n",
    "\n",
    "**Eg:**  \n",
    "`ax.plot(x, y, 'g--')`  \n",
    "`ax.plot(x, y, linestyle='--', color='g')`  \n",
    "*(Two lines of code above are equivalent.)*"
   ]
  },
  {
   "cell_type": "code",
   "execution_count": 7,
   "id": "c907e5a2",
   "metadata": {
    "ExecuteTime": {
     "end_time": "2022-07-30T04:22:40.796602Z",
     "start_time": "2022-07-30T04:22:40.644010Z"
    }
   },
   "outputs": [
    {
     "data": {
      "text/plain": [
       "[<matplotlib.lines.Line2D at 0x1a4bd2f04f0>]"
      ]
     },
     "execution_count": 7,
     "metadata": {},
     "output_type": "execute_result"
    },
    {
     "data": {
      "image/png": "[encoded data removed]",
      "text/plain": [
       "<Figure size 432x288 with 1 Axes>"
      ]
     },
     "metadata": {
      "needs_background": "light"
     },
     "output_type": "display_data"
    }
   ],
   "source": [
    "data = np.random.randn(30).cumsum()\n",
    "plt.plot(data, 'ko--')\n",
    "# Same as `plt.plot(np.random.randn(30).cumsum(), color='k', linestyle='dashed', marker='o')`"
   ]
  },
  {
   "cell_type": "code",
   "execution_count": 8,
   "id": "52fdb981",
   "metadata": {
    "ExecuteTime": {
     "end_time": "2022-07-30T04:22:41.009544Z",
     "start_time": "2022-07-30T04:22:40.798621Z"
    }
   },
   "outputs": [
    {
     "data": {
      "text/plain": [
       "<matplotlib.legend.Legend at 0x1a4bd34a790>"
      ]
     },
     "execution_count": 8,
     "metadata": {},
     "output_type": "execute_result"
    },
    {
     "data": {
      "image/png": "[encoded data removed]",
      "text/plain": [
       "<Figure size 432x288 with 1 Axes>"
      ]
     },
     "metadata": {
      "needs_background": "light"
     },
     "output_type": "display_data"
    }
   ],
   "source": [
    "plt.plot(data, 'k--', label='Default')\n",
    "plt.plot(data, 'k-', drawstyle='steps-post', label='steps-post')\n",
    "plt.legend(loc='best') # Pass label options in plot() then create .legend() object."
   ]
  },
  {
   "cell_type": "markdown",
   "id": "23b2cf7c",
   "metadata": {},
   "source": [
    "## Ticks, Labels, and Legends"
   ]
  },
  {
   "cell_type": "markdown",
   "id": "2bd8feaa",
   "metadata": {},
   "source": [
    "We can use either pyplot interface or native matplotlib API to do plot decorations.\n",
    "\n",
    "**Pyplot Interface**  \n",
    "Designed for interactive use, consist of methods that an control the plot range, tick locations, tick labels, and so on respectively.\n",
    "1. Call with no arguments returns the current parameter value.\n",
    "2. Call with parameters sets the parameter value."
   ]
  },
  {
   "cell_type": "markdown",
   "id": "e6c15114",
   "metadata": {},
   "source": [
    "### Setting the title, axis labels, ticks, and ticklabels"
   ]
  },
  {
   "cell_type": "code",
   "execution_count": 9,
   "id": "7fe7d08c",
   "metadata": {
    "ExecuteTime": {
     "end_time": "2022-07-30T04:22:41.175102Z",
     "start_time": "2022-07-30T04:22:41.012537Z"
    }
   },
   "outputs": [
    {
     "data": {
      "text/plain": [
       "[<matplotlib.lines.Line2D at 0x1a4bd3d71c0>]"
      ]
     },
     "execution_count": 9,
     "metadata": {},
     "output_type": "execute_result"
    },
    {
     "data": {
      "image/png": "[encoded data removed]",
      "text/plain": [
       "<Figure size 432x288 with 1 Axes>"
      ]
     },
     "metadata": {
      "needs_background": "light"
     },
     "output_type": "display_data"
    }
   ],
   "source": [
    "fig = plt.figure()\n",
    "ax = fig.add_subplot(1, 1, 1)\n",
    "ticks = ax.set_xticks([0, 250, 500, 750, 1000])\n",
    "labels = ax.set_xticklabels(['one', 'two', 'three', 'four', 'five'],\n",
    "                            rotation=30, fontsize='small')\n",
    "\n",
    "ax.set_title('My first matplotlib plot') # Set title, see also plt.title()\n",
    "ax.set_xlabel('Stages') # Set xlabel, see also plt.x_label()\n",
    "ax.plot(np.random.randn(1000).cumsum())"
   ]
  },
  {
   "cell_type": "code",
   "execution_count": 10,
   "id": "0b79f530",
   "metadata": {
    "ExecuteTime": {
     "end_time": "2022-07-30T04:22:41.186073Z",
     "start_time": "2022-07-30T04:22:41.179092Z"
    }
   },
   "outputs": [
    {
     "data": {
      "text/plain": [
       "[Text(0.5, 1.0, 'My first matplotlib plot'),\n",
       " Text(0.5, 17.200000000000003, 'Stages')]"
      ]
     },
     "execution_count": 10,
     "metadata": {},
     "output_type": "execute_result"
    }
   ],
   "source": [
    "props = {\n",
    "    'title': 'My first matplotlib plot',\n",
    "    'xlabel': 'Stages'\n",
    "}\n",
    "ax.set(**props) # Batch setting by using ax.set()"
   ]
  },
  {
   "cell_type": "markdown",
   "id": "350f132c",
   "metadata": {},
   "source": [
    "### Adding Legends"
   ]
  },
  {
   "cell_type": "code",
   "execution_count": 11,
   "id": "a54f4581",
   "metadata": {
    "ExecuteTime": {
     "end_time": "2022-07-30T04:22:41.347173Z",
     "start_time": "2022-07-30T04:22:41.189065Z"
    }
   },
   "outputs": [
    {
     "data": {
      "text/plain": [
       "<matplotlib.legend.Legend at 0x1a4bd4284f0>"
      ]
     },
     "execution_count": 11,
     "metadata": {},
     "output_type": "execute_result"
    },
    {
     "data": {
      "image/png": "[encoded data removed]",
      "text/plain": [
       "<Figure size 432x288 with 1 Axes>"
      ]
     },
     "metadata": {
      "needs_background": "light"
     },
     "output_type": "display_data"
    }
   ],
   "source": [
    "fig = plt.figure(); ax = fig.add_subplot(1, 1, 1)\n",
    "ax.plot(np.random.randn(1000).cumsum(), 'b', linewidth=1,  label='one')\n",
    "ax.plot(np.random.randn(1000).cumsum(), 'b--', linewidth=1,  label='two')\n",
    "ax.plot(np.random.randn(1000).cumsum(), 'b.', linewidth=1,  label='three')\n",
    "\n",
    "ax.legend(loc='best') # Pass option label then call ax.legend() or plt.legend() to create label automatically."
   ]
  },
  {
   "cell_type": "markdown",
   "id": "df93db5e",
   "metadata": {},
   "source": [
    "## Annotations and Drawing on a Subplot"
   ]
  },
  {
   "cell_type": "markdown",
   "id": "8903f70b",
   "metadata": {},
   "source": [
    "Besides the standard plot types, we can also create our own plot annotations, which could consist of text, arrow, or ther shapes. We can add annotations and text using the `text`, `arrow`, and `annotate` functions.\n",
    "\n",
    "**Eg: Give coordinates $(x, y)$ then create a text on the plot.**  \n",
    "ax.text(x, y, 'Hello world!', family='monospace', fontsize=10)"
   ]
  },
  {
   "cell_type": "code",
   "execution_count": 12,
   "id": "97f3279b",
   "metadata": {
    "ExecuteTime": {
     "end_time": "2022-07-30T04:22:41.712212Z",
     "start_time": "2022-07-30T04:22:41.349203Z"
    }
   },
   "outputs": [
    {
     "data": {
      "text/plain": [
       "Text(0.5, 1.0, 'Important dates in the 2008-2009 financial crisis')"
      ]
     },
     "execution_count": 12,
     "metadata": {},
     "output_type": "execute_result"
    },
    {
     "data": {
      "image/png": "[encoded data removed]",
      "text/plain": [
       "<Figure size 432x288 with 1 Axes>"
      ]
     },
     "metadata": {
      "needs_background": "light"
     },
     "output_type": "display_data"
    }
   ],
   "source": [
    "from datetime import datetime\n",
    "\n",
    "fig = plt.figure()\n",
    "ax = fig.add_subplot(1, 1, 1)\n",
    "\n",
    "path = r\"D:/Projects/PyLearning/Exercise/py_for_data_analysis/examples/spx.csv\"\n",
    "data = pd.read_csv(path, index_col=0, parse_dates=True)\n",
    "spx = data['SPX']\n",
    "\n",
    "spx.plot(ax=ax, style='k-')\n",
    "\n",
    "crisis_data = [\n",
    "    (datetime(2007, 10, 11), 'Peak of bull market'),\n",
    "    (datetime(2008, 3, 12), 'Bear Stearns Fails'),\n",
    "    (datetime(2008, 9, 15), 'Lehman Bankruptcy')\n",
    "]\n",
    "\n",
    "for date, label in crisis_data:\n",
    "    ax.annotate(label, xy=(date, spx.asof(date) + 75),\n",
    "                xytext=(date, spx.asof(date) + 225),\n",
    "                arrowprops=dict(facecolor='black', headwidth=4, width=2, headlength=4),\n",
    "                horizontalalignment='left', verticalalignment='top')\n",
    "\n",
    "# Zoom in on 2007-2010, i.e. set limit.\n",
    "ax.set_xlim(['1/1/2007', '1/1/2011'])\n",
    "ax.set_ylim([600, 1800])\n",
    "\n",
    "ax.set_title('Important dates in the 2008-2009 financial crisis', fontsize=14)"
   ]
  },
  {
   "cell_type": "markdown",
   "id": "3883e916",
   "metadata": {},
   "source": [
    "We can also draw shapes like `Rectangle` and `Circle`."
   ]
  },
  {
   "cell_type": "code",
   "execution_count": 13,
   "id": "7b5516c2",
   "metadata": {
    "ExecuteTime": {
     "end_time": "2022-07-30T04:22:41.836868Z",
     "start_time": "2022-07-30T04:22:41.714197Z"
    }
   },
   "outputs": [
    {
     "data": {
      "text/plain": [
       "<matplotlib.patches.Polygon at 0x1a4bd5e6a30>"
      ]
     },
     "execution_count": 13,
     "metadata": {},
     "output_type": "execute_result"
    },
    {
     "data": {
      "image/png": "[encoded data removed]",
      "text/plain": [
       "<Figure size 432x288 with 1 Axes>"
      ]
     },
     "metadata": {
      "needs_background": "light"
     },
     "output_type": "display_data"
    }
   ],
   "source": [
    "fig = plt.figure()\n",
    "ax = fig.add_subplot(1, 1, 1)\n",
    "\n",
    "rect = plt.Rectangle((0.2, 0.75), 0.4, 0.15, color='k', alpha=0.3)\n",
    "circ = plt.Circle((0.7, 0.2), 0.15, color='b', alpha=0.3)\n",
    "pgon = plt.Polygon([[0.15, 0.15], [0.35, 0.4], [0.2, 0.6]],color='g', alpha=0.5)\n",
    "\n",
    "ax.add_patch(rect)\n",
    "ax.add_patch(circ)\n",
    "ax.add_patch(pgon)"
   ]
  },
  {
   "cell_type": "markdown",
   "id": "4ca7d648",
   "metadata": {},
   "source": [
    "## Saving Plots to File"
   ]
  },
  {
   "cell_type": "markdown",
   "id": "ea7fe9e9",
   "metadata": {},
   "source": [
    "**Eg: Save figure as a .svg file.**  \n",
    "`plt.savefig('figpath.svg')`\n",
    "\n",
    "As showed above, pyplot will infer the file type from file extension automatically, we can even get a PDF file if we set the extension as .pdf.\n",
    "\n",
    "**Some frequently used options:**\n",
    "1. dpi: controls the dot-per-inch resolution.\n",
    "2. bbox_inches: trim the white space around the actual figure.\n",
    "\n",
    "For example: `plt.savefig('figpath.png', dpi=400, bbox_inches='tight')`\n",
    "\n",
    "We can even write to a disk buffer, because `savefig` doesn't have to write to disk, it can also write to any file-like object."
   ]
  },
  {
   "cell_type": "code",
   "execution_count": 14,
   "id": "de831ddd",
   "metadata": {
    "ExecuteTime": {
     "end_time": "2022-07-30T04:22:41.854832Z",
     "start_time": "2022-07-30T04:22:41.838863Z"
    }
   },
   "outputs": [
    {
     "data": {
      "text/plain": [
       "<Figure size 432x288 with 0 Axes>"
      ]
     },
     "metadata": {},
     "output_type": "display_data"
    }
   ],
   "source": [
    "from io import BytesIO\n",
    "buffer = BytesIO()\n",
    "plt.savefig(buffer)\n",
    "plot_data = buffer.getvalue()"
   ]
  },
  {
   "cell_type": "markdown",
   "id": "68ee0352",
   "metadata": {},
   "source": [
    "## matplotlib Configuration"
   ]
  },
  {
   "cell_type": "markdown",
   "id": "2ab2ae04",
   "metadata": {},
   "source": [
    "We maybe encounter some format problems if we are preparing for publication. In that situation, we can assign a set of global parameters to override the default settings, including figure size, subplot spacing, colors, font size, grid styles, and so on.\n",
    "\n",
    "For modify the configuration programmatically from Python, we can use `.rc` method.\n",
    "\n",
    "**Eg1: customize `'figure'` conponent as figsize=(10, 10)**  \n",
    "`plt.rc('figure', figsize=(10, 10))`\n",
    "\n",
    "**Eg2: customize by **kwarg**  \n",
    "```python\n",
    "font_options = {'family' : 'monospace',\n",
    "                'weight' : 'bold',\n",
    "                'size' : 'small'}\n",
    "plt.rc('font', **font_options)\n",
    "```"
   ]
  },
  {
   "cell_type": "markdown",
   "id": "62b4a75c",
   "metadata": {},
   "source": [
    "# Plotting with pandas and seaborn"
   ]
  },
  {
   "cell_type": "markdown",
   "id": "cc6ba355",
   "metadata": {},
   "source": [
    "## Line Plots"
   ]
  },
  {
   "cell_type": "markdown",
   "id": "fb0b8046",
   "metadata": {},
   "source": [
    "Use `.plot()` attribute of Series, also need to pass `index` or pass `use_index=False`.\n",
    "\n",
    "**Pay attention to the optional arguments in the `plot` method.**"
   ]
  },
  {
   "cell_type": "code",
   "execution_count": 46,
   "id": "aa09819f",
   "metadata": {
    "ExecuteTime": {
     "end_time": "2022-07-30T06:22:18.698557Z",
     "start_time": "2022-07-30T06:22:18.562910Z"
    }
   },
   "outputs": [
    {
     "data": {
      "text/plain": [
       "<AxesSubplot:title={'center':'TEST'}>"
      ]
     },
     "execution_count": 46,
     "metadata": {},
     "output_type": "execute_result"
    },
    {
     "data": {
      "image/png": "[encoded data removed]",
      "text/plain": [
       "<Figure size 432x288 with 1 Axes>"
      ]
     },
     "metadata": {
      "needs_background": "light"
     },
     "output_type": "display_data"
    }
   ],
   "source": [
    "s = pd.Series(np.random.randn(10).cumsum(), index=np.arange(0, 1000, 100))\n",
    "s.plot(label='TEST', legend=True, title='TEST', style='bx:')"
   ]
  },
  {
   "cell_type": "markdown",
   "id": "842e022c",
   "metadata": {},
   "source": [
    "For DataFrame, `plot` method will plot each of its columns as a different line on the same subplot, creating a legend automatically.\n",
    "\n",
    "**Pay attention to the `ax` option.**"
   ]
  },
  {
   "cell_type": "code",
   "execution_count": 56,
   "id": "aa19fabd",
   "metadata": {
    "ExecuteTime": {
     "end_time": "2022-07-30T06:47:34.507920Z",
     "start_time": "2022-07-30T06:47:33.797820Z"
    },
    "scrolled": true
   },
   "outputs": [
    {
     "data": {
      "text/plain": [
       "array([<AxesSubplot:>, <AxesSubplot:>, <AxesSubplot:>, <AxesSubplot:>],\n",
       "      dtype=object)"
      ]
     },
     "execution_count": 56,
     "metadata": {},
     "output_type": "execute_result"
    },
    {
     "data": {
      "image/png": "[encoded data removed]",
      "text/plain": [
       "<Figure size 432x288 with 4 Axes>"
      ]
     },
     "metadata": {
      "needs_background": "light"
     },
     "output_type": "display_data"
    }
   ],
   "source": [
    "fig, axes = plt.subplots(2, 2, sharex=True, sharey=True)\n",
    "\n",
    "df = pd.DataFrame(np.random.randn(10, 4).cumsum(0),\n",
    "                  columns=['A', 'B', 'C', 'D'],\n",
    "                  index=np.arange(0, 100, 10))\n",
    "\n",
    "df.plot(ax=axes, subplots=True)"
   ]
  },
  {
   "cell_type": "markdown",
   "id": "d5bac4ea",
   "metadata": {},
   "source": [
    "## Bar Plots"
   ]
  },
  {
   "cell_type": "markdown",
   "id": "f40ea90f",
   "metadata": {},
   "source": [
    "Main method: `plot.bar()` and `plot.barh()`.\n",
    "\n",
    "**Eg:** Use `s.value_counts().plot.bar()` to count value frequency of a `Series` then show it as a bar chart."
   ]
  },
  {
   "cell_type": "code",
   "execution_count": 59,
   "id": "56c998ca",
   "metadata": {
    "ExecuteTime": {
     "end_time": "2022-07-30T07:06:51.092283Z",
     "start_time": "2022-07-30T07:06:50.791103Z"
    }
   },
   "outputs": [
    {
     "data": {
      "text/plain": [
       "<AxesSubplot:>"
      ]
     },
     "execution_count": 59,
     "metadata": {},
     "output_type": "execute_result"
    },
    {
     "data": {
      "image/png": "[encoded data removed]",
      "text/plain": [
       "<Figure size 432x288 with 2 Axes>"
      ]
     },
     "metadata": {
      "needs_background": "light"
     },
     "output_type": "display_data"
    }
   ],
   "source": [
    "fig, axes = plt.subplots(2, 1)\n",
    "\n",
    "data = pd.Series(np.random.rand(16), index=list('abcdefghijklmnop'))\n",
    "data.plot.bar(ax=axes[0], color='b', alpha=0.5)\n",
    "data.plot.barh(ax=axes[1], color='b', alpha=0.5)"
   ]
  },
  {
   "cell_type": "markdown",
   "id": "e8e41954",
   "metadata": {},
   "source": [
    "For DataFrame, data can be grouped by index.\n",
    "\n",
    "Note that the name of the index column is used to title the legend."
   ]
  },
  {
   "cell_type": "code",
   "execution_count": 60,
   "id": "c25f756e",
   "metadata": {
    "ExecuteTime": {
     "end_time": "2022-07-30T07:12:26.195915Z",
     "start_time": "2022-07-30T07:12:26.174953Z"
    }
   },
   "outputs": [
    {
     "data": {
      "text/html": [
       "<div>\n",
       "<style scoped>\n",
       "    .dataframe tbody tr th:only-of-type {\n",
       "        vertical-align: middle;\n",
       "    }\n",
       "\n",
       "    .dataframe tbody tr th {\n",
       "        vertical-align: top;\n",
       "    }\n",
       "\n",
       "    .dataframe thead th {\n",
       "        text-align: right;\n",
       "    }\n",
       "</style>\n",
       "<table border=\"1\" class=\"dataframe\">\n",
       "  <thead>\n",
       "    <tr style=\"text-align: right;\">\n",
       "      <th>Genus</th>\n",
       "      <th>A</th>\n",
       "      <th>B</th>\n",
       "      <th>C</th>\n",
       "      <th>D</th>\n",
       "    </tr>\n",
       "  </thead>\n",
       "  <tbody>\n",
       "    <tr>\n",
       "      <th>one</th>\n",
       "      <td>0.923981</td>\n",
       "      <td>0.642565</td>\n",
       "      <td>0.078271</td>\n",
       "      <td>0.680922</td>\n",
       "    </tr>\n",
       "    <tr>\n",
       "      <th>two</th>\n",
       "      <td>0.593240</td>\n",
       "      <td>0.731738</td>\n",
       "      <td>0.638858</td>\n",
       "      <td>0.019065</td>\n",
       "    </tr>\n",
       "    <tr>\n",
       "      <th>three</th>\n",
       "      <td>0.259462</td>\n",
       "      <td>0.760378</td>\n",
       "      <td>0.622703</td>\n",
       "      <td>0.085161</td>\n",
       "    </tr>\n",
       "    <tr>\n",
       "      <th>four</th>\n",
       "      <td>0.162976</td>\n",
       "      <td>0.556786</td>\n",
       "      <td>0.803294</td>\n",
       "      <td>0.825524</td>\n",
       "    </tr>\n",
       "    <tr>\n",
       "      <th>five</th>\n",
       "      <td>0.141707</td>\n",
       "      <td>0.305885</td>\n",
       "      <td>0.734722</td>\n",
       "      <td>0.816744</td>\n",
       "    </tr>\n",
       "    <tr>\n",
       "      <th>six</th>\n",
       "      <td>0.143923</td>\n",
       "      <td>0.294349</td>\n",
       "      <td>0.145174</td>\n",
       "      <td>0.430758</td>\n",
       "    </tr>\n",
       "  </tbody>\n",
       "</table>\n",
       "</div>"
      ],
      "text/plain": [
       "Genus         A         B         C         D\n",
       "one    0.923981  0.642565  0.078271  0.680922\n",
       "two    0.593240  0.731738  0.638858  0.019065\n",
       "three  0.259462  0.760378  0.622703  0.085161\n",
       "four   0.162976  0.556786  0.803294  0.825524\n",
       "five   0.141707  0.305885  0.734722  0.816744\n",
       "six    0.143923  0.294349  0.145174  0.430758"
      ]
     },
     "execution_count": 60,
     "metadata": {},
     "output_type": "execute_result"
    }
   ],
   "source": [
    "df = pd.DataFrame(np.random.rand(6, 4),\n",
    "                  index=['one', 'two', 'three', 'four', 'five', 'six'],\n",
    "                  columns=pd.Index(['A', 'B', 'C', 'D'], name='Genus'))\n",
    "df"
   ]
  },
  {
   "cell_type": "code",
   "execution_count": 61,
   "id": "6dfc7909",
   "metadata": {
    "ExecuteTime": {
     "end_time": "2022-07-30T07:12:33.498622Z",
     "start_time": "2022-07-30T07:12:33.300154Z"
    }
   },
   "outputs": [
    {
     "data": {
      "text/plain": [
       "<AxesSubplot:>"
      ]
     },
     "execution_count": 61,
     "metadata": {},
     "output_type": "execute_result"
    },
    {
     "data": {
      "image/png": "[encoded data removed]",
      "text/plain": [
       "<Figure size 432x288 with 1 Axes>"
      ]
     },
     "metadata": {
      "needs_background": "light"
     },
     "output_type": "display_data"
    }
   ],
   "source": [
    "df.plot.bar()"
   ]
  },
  {
   "cell_type": "code",
   "execution_count": 62,
   "id": "60cc1351",
   "metadata": {
    "ExecuteTime": {
     "end_time": "2022-07-30T07:46:28.668930Z",
     "start_time": "2022-07-30T07:46:28.467431Z"
    }
   },
   "outputs": [
    {
     "data": {
      "text/plain": [
       "<AxesSubplot:>"
      ]
     },
     "execution_count": 62,
     "metadata": {},
     "output_type": "execute_result"
    },
    {
     "data": {
      "image/png": "[encoded data removed]",
      "text/plain": [
       "<Figure size 432x288 with 1 Axes>"
      ]
     },
     "metadata": {
      "needs_background": "light"
     },
     "output_type": "display_data"
    }
   ],
   "source": [
    "# Create a stacked bar chart.\n",
    "df.plot.barh(stacked=True, alpha=0.5)"
   ]
  },
  {
   "cell_type": "markdown",
   "id": "e5b126fa",
   "metadata": {},
   "source": [
    "Make a stacked bar plot showing the percentage of data points for each party size on each day."
   ]
  },
  {
   "cell_type": "code",
   "execution_count": 69,
   "id": "b8ad6fb5",
   "metadata": {
    "ExecuteTime": {
     "end_time": "2022-07-30T13:55:16.630605Z",
     "start_time": "2022-07-30T13:55:16.571763Z"
    }
   },
   "outputs": [
    {
     "data": {
      "text/html": [
       "<div>\n",
       "<style scoped>\n",
       "    .dataframe tbody tr th:only-of-type {\n",
       "        vertical-align: middle;\n",
       "    }\n",
       "\n",
       "    .dataframe tbody tr th {\n",
       "        vertical-align: top;\n",
       "    }\n",
       "\n",
       "    .dataframe thead th {\n",
       "        text-align: right;\n",
       "    }\n",
       "</style>\n",
       "<table border=\"1\" class=\"dataframe\">\n",
       "  <thead>\n",
       "    <tr style=\"text-align: right;\">\n",
       "      <th>size</th>\n",
       "      <th>2</th>\n",
       "      <th>3</th>\n",
       "      <th>4</th>\n",
       "      <th>5</th>\n",
       "    </tr>\n",
       "    <tr>\n",
       "      <th>day</th>\n",
       "      <th></th>\n",
       "      <th></th>\n",
       "      <th></th>\n",
       "      <th></th>\n",
       "    </tr>\n",
       "  </thead>\n",
       "  <tbody>\n",
       "    <tr>\n",
       "      <th>Fri</th>\n",
       "      <td>16</td>\n",
       "      <td>1</td>\n",
       "      <td>1</td>\n",
       "      <td>0</td>\n",
       "    </tr>\n",
       "    <tr>\n",
       "      <th>Sat</th>\n",
       "      <td>53</td>\n",
       "      <td>18</td>\n",
       "      <td>13</td>\n",
       "      <td>1</td>\n",
       "    </tr>\n",
       "    <tr>\n",
       "      <th>Sun</th>\n",
       "      <td>39</td>\n",
       "      <td>15</td>\n",
       "      <td>18</td>\n",
       "      <td>3</td>\n",
       "    </tr>\n",
       "    <tr>\n",
       "      <th>Thur</th>\n",
       "      <td>48</td>\n",
       "      <td>4</td>\n",
       "      <td>5</td>\n",
       "      <td>1</td>\n",
       "    </tr>\n",
       "  </tbody>\n",
       "</table>\n",
       "</div>"
      ],
      "text/plain": [
       "size   2   3   4  5\n",
       "day                \n",
       "Fri   16   1   1  0\n",
       "Sat   53  18  13  1\n",
       "Sun   39  15  18  3\n",
       "Thur  48   4   5  1"
      ]
     },
     "execution_count": 69,
     "metadata": {},
     "output_type": "execute_result"
    }
   ],
   "source": [
    "path = r\"D:\\Projects\\PyLearning\\Exercise\\py_for_data_analysis\\examples\\tips.csv\"\n",
    "\n",
    "tips = pd.read_csv(path)\n",
    "party_counts = pd.crosstab(tips['day'], tips['size'])\n",
    "\n",
    "# Not many 1- and 6-person parties\n",
    "party_counts = party_counts.loc[:, 2:5]\n",
    "\n",
    "# Normalize to sum to 1\n",
    "party_pcts = party_counts.div(party_counts.sum(1), axis=0)\n",
    "\n",
    "party_counts"
   ]
  },
  {
   "cell_type": "code",
   "execution_count": 70,
   "id": "96d49229",
   "metadata": {
    "ExecuteTime": {
     "end_time": "2022-07-30T13:55:17.983229Z",
     "start_time": "2022-07-30T13:55:17.734614Z"
    }
   },
   "outputs": [
    {
     "data": {
      "text/plain": [
       "<AxesSubplot:xlabel='day'>"
      ]
     },
     "execution_count": 70,
     "metadata": {},
     "output_type": "execute_result"
    },
    {
     "data": {
      "image/png": "[encoded data removed]",
      "text/plain": [
       "<Figure size 432x288 with 1 Axes>"
      ]
     },
     "metadata": {
      "needs_background": "light"
     },
     "output_type": "display_data"
    }
   ],
   "source": [
    "party_pcts.plot.bar()"
   ]
  },
  {
   "cell_type": "markdown",
   "id": "029850b9",
   "metadata": {},
   "source": [
    "Use `seaborn` package for data that requires aggregation or summarization before making a plot."
   ]
  },
  {
   "cell_type": "code",
   "execution_count": 72,
   "id": "d9ff4954",
   "metadata": {
    "ExecuteTime": {
     "end_time": "2022-07-30T14:02:55.219631Z",
     "start_time": "2022-07-30T14:02:55.202676Z"
    }
   },
   "outputs": [
    {
     "data": {
      "text/html": [
       "<div>\n",
       "<style scoped>\n",
       "    .dataframe tbody tr th:only-of-type {\n",
       "        vertical-align: middle;\n",
       "    }\n",
       "\n",
       "    .dataframe tbody tr th {\n",
       "        vertical-align: top;\n",
       "    }\n",
       "\n",
       "    .dataframe thead th {\n",
       "        text-align: right;\n",
       "    }\n",
       "</style>\n",
       "<table border=\"1\" class=\"dataframe\">\n",
       "  <thead>\n",
       "    <tr style=\"text-align: right;\">\n",
       "      <th></th>\n",
       "      <th>total_bill</th>\n",
       "      <th>tip</th>\n",
       "      <th>smoker</th>\n",
       "      <th>day</th>\n",
       "      <th>time</th>\n",
       "      <th>size</th>\n",
       "      <th>tip_pct</th>\n",
       "    </tr>\n",
       "  </thead>\n",
       "  <tbody>\n",
       "    <tr>\n",
       "      <th>0</th>\n",
       "      <td>16.99</td>\n",
       "      <td>1.01</td>\n",
       "      <td>No</td>\n",
       "      <td>Sun</td>\n",
       "      <td>Dinner</td>\n",
       "      <td>2</td>\n",
       "      <td>0.063204</td>\n",
       "    </tr>\n",
       "    <tr>\n",
       "      <th>1</th>\n",
       "      <td>10.34</td>\n",
       "      <td>1.66</td>\n",
       "      <td>No</td>\n",
       "      <td>Sun</td>\n",
       "      <td>Dinner</td>\n",
       "      <td>3</td>\n",
       "      <td>0.191244</td>\n",
       "    </tr>\n",
       "    <tr>\n",
       "      <th>2</th>\n",
       "      <td>21.01</td>\n",
       "      <td>3.50</td>\n",
       "      <td>No</td>\n",
       "      <td>Sun</td>\n",
       "      <td>Dinner</td>\n",
       "      <td>3</td>\n",
       "      <td>0.199886</td>\n",
       "    </tr>\n",
       "    <tr>\n",
       "      <th>3</th>\n",
       "      <td>23.68</td>\n",
       "      <td>3.31</td>\n",
       "      <td>No</td>\n",
       "      <td>Sun</td>\n",
       "      <td>Dinner</td>\n",
       "      <td>2</td>\n",
       "      <td>0.162494</td>\n",
       "    </tr>\n",
       "    <tr>\n",
       "      <th>4</th>\n",
       "      <td>24.59</td>\n",
       "      <td>3.61</td>\n",
       "      <td>No</td>\n",
       "      <td>Sun</td>\n",
       "      <td>Dinner</td>\n",
       "      <td>4</td>\n",
       "      <td>0.172069</td>\n",
       "    </tr>\n",
       "  </tbody>\n",
       "</table>\n",
       "</div>"
      ],
      "text/plain": [
       "   total_bill   tip smoker  day    time  size   tip_pct\n",
       "0       16.99  1.01     No  Sun  Dinner     2  0.063204\n",
       "1       10.34  1.66     No  Sun  Dinner     3  0.191244\n",
       "2       21.01  3.50     No  Sun  Dinner     3  0.199886\n",
       "3       23.68  3.31     No  Sun  Dinner     2  0.162494\n",
       "4       24.59  3.61     No  Sun  Dinner     4  0.172069"
      ]
     },
     "execution_count": 72,
     "metadata": {},
     "output_type": "execute_result"
    }
   ],
   "source": [
    "import seaborn as sns\n",
    "\n",
    "tips['tip_pct'] = tips['tip'] / (tips['total_bill'] - tips['tip'])\n",
    "tips.head()"
   ]
  },
  {
   "cell_type": "code",
   "execution_count": 73,
   "id": "65f83281",
   "metadata": {
    "ExecuteTime": {
     "end_time": "2022-07-30T14:03:04.345438Z",
     "start_time": "2022-07-30T14:03:04.027282Z"
    }
   },
   "outputs": [
    {
     "data": {
      "text/plain": [
       "<AxesSubplot:xlabel='tip_pct', ylabel='day'>"
      ]
     },
     "execution_count": 73,
     "metadata": {},
     "output_type": "execute_result"
    },
    {
     "data": {
      "image/png": "[encoded data removed]",
      "text/plain": [
       "<Figure size 432x288 with 1 Axes>"
      ]
     },
     "metadata": {
      "needs_background": "light"
     },
     "output_type": "display_data"
    }
   ],
   "source": [
    "sns.barplot(x='tip_pct', y='day', data=tips, orient='h')"
   ]
  },
  {
   "cell_type": "markdown",
   "id": "3380163a",
   "metadata": {},
   "source": [
    "Plottingfunctionsinseaborn take a `data` argument, which can be apandas DataFrame. The other arguments refer to column names."
   ]
  }
 ],
 "metadata": {
  "kernelspec": {
   "display_name": "Python 3 (ipykernel)",
   "language": "python",
   "name": "python3"
  },
  "language_info": {
   "codemirror_mode": {
    "name": "ipython",
    "version": 3
   },
   "file_extension": ".py",
   "mimetype": "text/x-python",
   "name": "python",
   "nbconvert_exporter": "python",
   "pygments_lexer": "ipython3",
   "version": "3.9.13"
  },
  "toc": {
   "base_numbering": 1,
   "nav_menu": {},
   "number_sections": true,
   "sideBar": true,
   "skip_h1_title": false,
   "title_cell": "Table of Contents",
   "title_sidebar": "Contents",
   "toc_cell": false,
   "toc_position": {},
   "toc_section_display": true,
   "toc_window_display": false
  }
 },
 "nbformat": 4,
 "nbformat_minor": 5
}
